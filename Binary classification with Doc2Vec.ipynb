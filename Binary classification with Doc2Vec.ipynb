{
 "cells": [
  {
   "cell_type": "code",
   "execution_count": 1,
   "metadata": {},
   "outputs": [],
   "source": [
    "from urllib import request\n",
    "import tarfile\n",
    "\n",
    "import pathlib as pl\n",
    "\n",
    "from gensim.models.doc2vec import TaggedDocument, Doc2Vec\n",
    "from gensim.utils import simple_preprocess\n",
    "from sklearn.utils import shuffle"
   ]
  },
  {
   "cell_type": "code",
   "execution_count": 2,
   "metadata": {},
   "outputs": [],
   "source": [
    "request.urlretrieve('http://www.cs.cornell.edu/people/pabo/movie-review-data/review_polarity.tar.gz',\n",
    "                    filename = 'review_polarity.tar.gz')\n",
    "\n",
    "with tarfile.open('review_polarity.tar.gz', 'r') as gz_archive:\n",
    "    gz_archive.extractall()"
   ]
  },
  {
   "cell_type": "code",
   "execution_count": 3,
   "metadata": {
    "collapsed": true
   },
   "outputs": [],
   "source": [
    "def tag_reviews():\n",
    "\n",
    "    pos = []\n",
    "    neg = []\n",
    "\n",
    "    for p in pl.Path('./txt_sentoken/pos').iterdir():\n",
    "        with open(p, 'r') as file:\n",
    "            pos.append(TaggedDocument(words = simple_preprocess(file.read()), tags = '+'))\n",
    "                \n",
    "    for p in (pl.Path('./txt_sentoken/neg').iterdir()):\n",
    "        with open(p, 'r') as file:\n",
    "            neg.append(TaggedDocument(words = simple_preprocess(file.read()), tags = '-'))\n",
    "            \n",
    "    return pos, neg"
   ]
  },
  {
   "cell_type": "code",
   "execution_count": 4,
   "metadata": {
    "collapsed": true
   },
   "outputs": [],
   "source": [
    "def model_reviews(model_type, input_reviews, iter_rounds = 10):\n",
    "    \n",
    "    pos_reviews_tags = []\n",
    "    neg_reviews_tags = []\n",
    "\n",
    "    cum_pos_accuracy = 0.0\n",
    "    cum_neg_accuracy = 0.0\n",
    "    \n",
    "    for n in range(iter_rounds):\n",
    "        \n",
    "        pos_reviews_tags = shuffle(input_reviews[0])\n",
    "        neg_reviews_tags = shuffle(input_reviews[1])\n",
    "    \n",
    "        neg_sample_tags = neg_reviews_tags[:100]\n",
    "\n",
    "        train_tag_data = shuffle((pos_reviews_tags[:800]) + (neg_sample_tags[:80]))\n",
    "        test_tag_data = shuffle((pos_reviews_tags[800:]) + (neg_sample_tags[80:]))      \n",
    "\n",
    "        if model_type == 'base':\n",
    "            model = Doc2Vec(dbow_words = 1, dm = 0, epochs = 20, min_count = 1,\n",
    "                    negative = 10, sample = 0.0005, vector_size = 300)\n",
    "            \n",
    "        elif model_type == 'improved':\n",
    "            model = Doc2Vec(dbow_words = 0, dm = 0, hs = 1, epochs = 20, min_count = 1,\n",
    "                    sample = 0.0005, vector_size = 300)\n",
    "        \n",
    "        model.build_vocab(train_tag_data)\n",
    "        model.train(train_tag_data, total_examples=model.corpus_count, epochs=model.epochs)\n",
    "        \n",
    "        pos_total = 0\n",
    "        neg_total = 0\n",
    "        pos_correct = 0\n",
    "        neg_correct = 0\n",
    "        \n",
    "        for review_id in range(len(test_tag_data)):\n",
    "            inferred_vector = model.infer_vector(test_tag_data[review_id].words)\n",
    "            sims = model.docvecs.most_similar([inferred_vector], topn=len(model.docvecs))\n",
    "            \n",
    "            if test_tag_data[review_id].tags == '+':\n",
    "                pos_total += 1\n",
    "                if sims[0][0] == test_tag_data[review_id].tags:\n",
    "                    pos_correct += 1\n",
    "                    \n",
    "            if test_tag_data[review_id].tags == '-':\n",
    "                neg_total += 1\n",
    "                if sims[0][0] == test_tag_data[review_id].tags:\n",
    "                    neg_correct += 1\n",
    "                    \n",
    "        pos_accuracy = pos_correct / pos_total\n",
    "        neg_accuracy = neg_correct / neg_total\n",
    "                    \n",
    "        print('Ratio of positive reviews classified correctly on round {0}: {1}'.format(n, pos_accuracy))\n",
    "        print('Ratio of negative reviews classified correctly on round {0}: {1}\\n\\n'.format(n, neg_accuracy))\n",
    "        \n",
    "        cum_pos_accuracy += pos_accuracy\n",
    "        cum_neg_accuracy += neg_accuracy       \n",
    "        \n",
    "    avg_pos_accuracy = cum_pos_accuracy / iter_rounds\n",
    "    avg_neg_accuracy = cum_neg_accuracy / iter_rounds\n",
    "        \n",
    "    print('Average ratio of positive reviews classified correctly:', avg_pos_accuracy)\n",
    "    print('Average ratio of negative reviews classified correctly:', avg_neg_accuracy)"
   ]
  },
  {
   "cell_type": "code",
   "execution_count": 5,
   "metadata": {},
   "outputs": [],
   "source": [
    "tagged_reviews = tag_reviews()"
   ]
  },
  {
   "cell_type": "code",
   "execution_count": 6,
   "metadata": {},
   "outputs": [
    {
     "name": "stdout",
     "output_type": "stream",
     "text": [
      "Ratio of positive reviews classified correctly on round 0: 0.945\n",
      "Ratio of negative reviews classified correctly on round 0: 0.3\n",
      "\n",
      "\n",
      "Ratio of positive reviews classified correctly on round 1: 0.945\n",
      "Ratio of negative reviews classified correctly on round 1: 0.45\n",
      "\n",
      "\n",
      "Ratio of positive reviews classified correctly on round 2: 0.97\n",
      "Ratio of negative reviews classified correctly on round 2: 0.15\n",
      "\n",
      "\n",
      "Ratio of positive reviews classified correctly on round 3: 0.865\n",
      "Ratio of negative reviews classified correctly on round 3: 0.25\n",
      "\n",
      "\n",
      "Ratio of positive reviews classified correctly on round 4: 0.95\n",
      "Ratio of negative reviews classified correctly on round 4: 0.35\n",
      "\n",
      "\n",
      "Ratio of positive reviews classified correctly on round 5: 0.925\n",
      "Ratio of negative reviews classified correctly on round 5: 0.45\n",
      "\n",
      "\n",
      "Ratio of positive reviews classified correctly on round 6: 0.935\n",
      "Ratio of negative reviews classified correctly on round 6: 0.25\n",
      "\n",
      "\n",
      "Ratio of positive reviews classified correctly on round 7: 0.955\n",
      "Ratio of negative reviews classified correctly on round 7: 0.3\n",
      "\n",
      "\n",
      "Ratio of positive reviews classified correctly on round 8: 0.93\n",
      "Ratio of negative reviews classified correctly on round 8: 0.35\n",
      "\n",
      "\n",
      "Ratio of positive reviews classified correctly on round 9: 0.905\n",
      "Ratio of negative reviews classified correctly on round 9: 0.3\n",
      "\n",
      "\n",
      "Average ratio of positive reviews classified correctly: 0.9324999999999999\n",
      "Average ratio of negative reviews classified correctly: 0.315\n"
     ]
    }
   ],
   "source": [
    "model_reviews('base', tagged_reviews)"
   ]
  },
  {
   "cell_type": "code",
   "execution_count": 7,
   "metadata": {},
   "outputs": [
    {
     "name": "stdout",
     "output_type": "stream",
     "text": [
      "Ratio of positive reviews classified correctly on round 0: 0.84\n",
      "Ratio of negative reviews classified correctly on round 0: 0.65\n",
      "\n",
      "\n",
      "Ratio of positive reviews classified correctly on round 1: 0.86\n",
      "Ratio of negative reviews classified correctly on round 1: 0.6\n",
      "\n",
      "\n",
      "Ratio of positive reviews classified correctly on round 2: 0.91\n",
      "Ratio of negative reviews classified correctly on round 2: 0.55\n",
      "\n",
      "\n",
      "Ratio of positive reviews classified correctly on round 3: 0.815\n",
      "Ratio of negative reviews classified correctly on round 3: 0.55\n",
      "\n",
      "\n",
      "Ratio of positive reviews classified correctly on round 4: 0.785\n",
      "Ratio of negative reviews classified correctly on round 4: 0.7\n",
      "\n",
      "\n",
      "Ratio of positive reviews classified correctly on round 5: 0.86\n",
      "Ratio of negative reviews classified correctly on round 5: 0.7\n",
      "\n",
      "\n",
      "Ratio of positive reviews classified correctly on round 6: 0.805\n",
      "Ratio of negative reviews classified correctly on round 6: 0.7\n",
      "\n",
      "\n",
      "Ratio of positive reviews classified correctly on round 7: 0.825\n",
      "Ratio of negative reviews classified correctly on round 7: 0.6\n",
      "\n",
      "\n",
      "Ratio of positive reviews classified correctly on round 8: 0.81\n",
      "Ratio of negative reviews classified correctly on round 8: 0.65\n",
      "\n",
      "\n",
      "Ratio of positive reviews classified correctly on round 9: 0.82\n",
      "Ratio of negative reviews classified correctly on round 9: 0.6\n",
      "\n",
      "\n",
      "Average ratio of positive reviews classified correctly: 0.833\n",
      "Average ratio of negative reviews classified correctly: 0.63\n"
     ]
    }
   ],
   "source": [
    "model_reviews('improved', tagged_reviews)"
   ]
  }
 ],
 "metadata": {
  "kernelspec": {
   "display_name": "Python [default]",
   "language": "python",
   "name": "python3"
  },
  "language_info": {
   "codemirror_mode": {
    "name": "ipython",
    "version": 3
   },
   "file_extension": ".py",
   "mimetype": "text/x-python",
   "name": "python",
   "nbconvert_exporter": "python",
   "pygments_lexer": "ipython3",
   "version": "3.6.3"
  }
 },
 "nbformat": 4,
 "nbformat_minor": 2
}
